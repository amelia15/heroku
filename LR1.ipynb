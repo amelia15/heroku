{
  "nbformat": 4,
  "nbformat_minor": 0,
  "metadata": {
    "colab": {
      "name": "LR1.ipynb",
      "provenance": [],
      "mount_file_id": "1GbMbUHInG-r_wiak2hUYGfWBu83tkW5d",
      "authorship_tag": "ABX9TyPyDuGHUj9LEkXcBehpKxdJ",
      "include_colab_link": true
    },
    "kernelspec": {
      "name": "python3",
      "display_name": "Python 3"
    }
  },
  "cells": [
    {
      "cell_type": "markdown",
      "metadata": {
        "id": "view-in-github",
        "colab_type": "text"
      },
      "source": [
        "<a href=\"https://colab.research.google.com/github/amelia15/heroku/blob/main/LR1.ipynb\" target=\"_parent\"><img src=\"https://colab.research.google.com/assets/colab-badge.svg\" alt=\"Open In Colab\"/></a>"
      ]
    },
    {
      "cell_type": "code",
      "metadata": {
        "colab": {
          "base_uri": "https://localhost:8080/"
        },
        "id": "mYGqLoBscP0a",
        "outputId": "b7813535-2c59-4c8d-d650-385400f389c9"
      },
      "source": [
        "!wget -qO- https://toolbelt.heroku.com/install-ubuntu.sh |sh"
      ],
      "execution_count": 2,
      "outputs": [
        {
          "output_type": "stream",
          "text": [
            "This script requires superuser access to install apt packages.\n",
            "You will be prompted for your password by sudo.\n",
            "--2021-03-16 15:10:41--  https://toolbelt.heroku.com/apt/release.key\n",
            "Resolving toolbelt.heroku.com (toolbelt.heroku.com)... 34.192.67.182, 52.5.205.147, 52.204.244.158, ...\n",
            "Connecting to toolbelt.heroku.com (toolbelt.heroku.com)|34.192.67.182|:443... connected.\n",
            "HTTP request sent, awaiting response... 200 OK\n",
            "Length: 1737 (1.7K) [application/octet-stream]\n",
            "Saving to: ‘STDOUT’\n",
            "\n",
            "-                   100%[===================>]   1.70K  --.-KB/s    in 0s      \n",
            "\n",
            "2021-03-16 15:10:41 (512 MB/s) - written to stdout [1737/1737]\n",
            "\n",
            "OK\n",
            "Get:1 https://cloud.r-project.org/bin/linux/ubuntu bionic-cran40/ InRelease [3,626 B]\n",
            "Ign:2 https://developer.download.nvidia.com/compute/cuda/repos/ubuntu1804/x86_64  InRelease\n",
            "Ign:3 https://developer.download.nvidia.com/compute/machine-learning/repos/ubuntu1804/x86_64  InRelease\n",
            "Get:4 https://developer.download.nvidia.com/compute/cuda/repos/ubuntu1804/x86_64  Release [697 B]\n",
            "Hit:5 https://developer.download.nvidia.com/compute/machine-learning/repos/ubuntu1804/x86_64  Release\n",
            "Get:7 https://developer.download.nvidia.com/compute/cuda/repos/ubuntu1804/x86_64  Release.gpg [836 B]\n",
            "Hit:8 http://archive.ubuntu.com/ubuntu bionic InRelease\n",
            "Get:9 http://security.ubuntu.com/ubuntu bionic-security InRelease [88.7 kB]\n",
            "Get:10 http://ppa.launchpad.net/c2d4u.team/c2d4u4.0+/ubuntu bionic InRelease [15.9 kB]\n",
            "Ign:6 http://toolbelt.heroku.com/ubuntu ./ InRelease\n",
            "Get:12 http://archive.ubuntu.com/ubuntu bionic-updates InRelease [88.7 kB]\n",
            "Ign:13 https://developer.download.nvidia.com/compute/cuda/repos/ubuntu1804/x86_64  Packages\n",
            "Get:13 https://developer.download.nvidia.com/compute/cuda/repos/ubuntu1804/x86_64  Packages [603 kB]\n",
            "Get:14 http://toolbelt.heroku.com/ubuntu ./ Release [1,609 B]\n",
            "Hit:16 http://ppa.launchpad.net/cran/libgit2/ubuntu bionic InRelease\n",
            "Get:15 http://toolbelt.heroku.com/ubuntu ./ Release.gpg [473 B]\n",
            "Get:17 http://archive.ubuntu.com/ubuntu bionic-backports InRelease [74.6 kB]\n",
            "Get:18 http://security.ubuntu.com/ubuntu bionic-security/restricted amd64 Packages [333 kB]\n",
            "Hit:19 http://ppa.launchpad.net/deadsnakes/ppa/ubuntu bionic InRelease\n",
            "Get:20 http://toolbelt.heroku.com/ubuntu ./ Packages [636 B]\n",
            "Get:21 http://archive.ubuntu.com/ubuntu bionic-updates/restricted amd64 Packages [363 kB]\n",
            "Hit:22 http://ppa.launchpad.net/graphics-drivers/ppa/ubuntu bionic InRelease\n",
            "Get:23 http://security.ubuntu.com/ubuntu bionic-security/main amd64 Packages [1,995 kB]\n",
            "Get:24 http://ppa.launchpad.net/c2d4u.team/c2d4u4.0+/ubuntu bionic/main Sources [1,746 kB]\n",
            "Get:25 http://archive.ubuntu.com/ubuntu bionic-updates/main amd64 Packages [2,425 kB]\n",
            "Get:26 http://security.ubuntu.com/ubuntu bionic-security/universe amd64 Packages [1,398 kB]\n",
            "Get:27 http://archive.ubuntu.com/ubuntu bionic-updates/universe amd64 Packages [2,165 kB]\n",
            "Get:28 http://ppa.launchpad.net/c2d4u.team/c2d4u4.0+/ubuntu bionic/main amd64 Packages [893 kB]\n",
            "Fetched 12.2 MB in 4s (3,260 kB/s)\n",
            "Reading package lists... Done\n",
            "Reading package lists... Done\n",
            "Building dependency tree       \n",
            "Reading state information... Done\n",
            "The following additional packages will be installed:\n",
            "  heroku\n",
            "The following NEW packages will be installed:\n",
            "  heroku heroku-toolbelt\n",
            "0 upgraded, 2 newly installed, 0 to remove and 49 not upgraded.\n",
            "Need to get 1,492 B of archives.\n",
            "After this operation, 0 B of additional disk space will be used.\n",
            "Get:1 http://toolbelt.heroku.com/ubuntu ./ heroku 3.99.4 [790 B]\n",
            "Get:2 http://toolbelt.heroku.com/ubuntu ./ heroku-toolbelt 3.99.4 [702 B]\n",
            "Fetched 1,492 B in 1s (2,124 B/s)\n",
            "debconf: unable to initialize frontend: Dialog\n",
            "debconf: (No usable dialog-like program is installed, so the dialog based frontend cannot be used. at /usr/share/perl5/Debconf/FrontEnd/Dialog.pm line 76, <> line 2.)\n",
            "debconf: falling back to frontend: Readline\n",
            "debconf: unable to initialize frontend: Readline\n",
            "debconf: (This frontend requires a controlling tty.)\n",
            "debconf: falling back to frontend: Teletype\n",
            "dpkg-preconfigure: unable to re-open stdin: \n",
            "Selecting previously unselected package heroku.\n",
            "(Reading database ... 160975 files and directories currently installed.)\n",
            "Preparing to unpack .../archives/heroku_3.99.4_all.deb ...\n",
            "Unpacking heroku (3.99.4) ...\n",
            "Selecting previously unselected package heroku-toolbelt.\n",
            "Preparing to unpack .../heroku-toolbelt_3.99.4_all.deb ...\n",
            "Unpacking heroku-toolbelt (3.99.4) ...\n",
            "Setting up heroku (3.99.4) ...\n",
            "+ uname -m\n",
            "+ MACHINE_TYPE=x86_64\n",
            "+ [ x86_64 = x86_64 ]\n",
            "+ ARCH=x64\n",
            "+ mkdir -p /usr/local\n",
            "+ cd /usr/local\n",
            "+ wget -qO- https://cli-assets.heroku.com/heroku-cli/channels/stable/heroku-cli-linux-x64.tar.gz\n",
            "+ tar xz\n",
            "+ rm -rf /usr/local/heroku\n",
            "+ mv /usr/local/heroku-cli-v6.99.0-ec9edad-linux-x64 /usr/local/heroku\n",
            "+ ln -sf /usr/local/heroku/bin/heroku /usr/bin/heroku\n",
            "Setting up heroku-toolbelt (3.99.4) ...\n",
            "Reading package lists... Done\n",
            "Building dependency tree       \n",
            "Reading state information... Done\n",
            "The following additional packages will be installed:\n",
            "  fonts-lato javascript-common libjs-jquery libruby2.5 rake ruby-did-you-mean\n",
            "  ruby-minitest ruby-net-telnet ruby-power-assert ruby-test-unit ruby2.5\n",
            "  rubygems-integration\n",
            "Suggested packages:\n",
            "  apache2 | lighttpd | httpd ri ruby-dev bundler\n",
            "The following NEW packages will be installed:\n",
            "  fonts-lato javascript-common libjs-jquery libruby2.5 rake ruby\n",
            "  ruby-did-you-mean ruby-minitest ruby-net-telnet ruby-power-assert\n",
            "  ruby-test-unit ruby2.5 rubygems-integration\n",
            "0 upgraded, 13 newly installed, 0 to remove and 49 not upgraded.\n",
            "Need to get 6,158 kB of archives.\n",
            "After this operation, 27.8 MB of additional disk space will be used.\n",
            "Get:1 http://archive.ubuntu.com/ubuntu bionic/main amd64 fonts-lato all 2.0-2 [2,698 kB]\n",
            "Get:2 http://archive.ubuntu.com/ubuntu bionic/main amd64 javascript-common all 11 [6,066 B]\n",
            "Get:3 http://archive.ubuntu.com/ubuntu bionic/main amd64 libjs-jquery all 3.2.1-1 [152 kB]\n",
            "Get:4 http://archive.ubuntu.com/ubuntu bionic/main amd64 rubygems-integration all 1.11 [4,994 B]\n",
            "Get:5 http://archive.ubuntu.com/ubuntu bionic-updates/main amd64 ruby2.5 amd64 2.5.1-1ubuntu1.7 [48.6 kB]\n",
            "Get:6 http://archive.ubuntu.com/ubuntu bionic/main amd64 ruby amd64 1:2.5.1 [5,712 B]\n",
            "Get:7 http://archive.ubuntu.com/ubuntu bionic-updates/main amd64 rake all 12.3.1-1ubuntu0.1 [44.9 kB]\n",
            "Get:8 http://archive.ubuntu.com/ubuntu bionic/main amd64 ruby-did-you-mean all 1.2.0-2 [9,700 B]\n",
            "Get:9 http://archive.ubuntu.com/ubuntu bionic/main amd64 ruby-minitest all 5.10.3-1 [38.6 kB]\n",
            "Get:10 http://archive.ubuntu.com/ubuntu bionic/main amd64 ruby-net-telnet all 0.1.1-2 [12.6 kB]\n",
            "Get:11 http://archive.ubuntu.com/ubuntu bionic/main amd64 ruby-power-assert all 0.3.0-1 [7,952 B]\n",
            "Get:12 http://archive.ubuntu.com/ubuntu bionic/main amd64 ruby-test-unit all 3.2.5-1 [61.1 kB]\n",
            "Get:13 http://archive.ubuntu.com/ubuntu bionic-updates/main amd64 libruby2.5 amd64 2.5.1-1ubuntu1.7 [3,068 kB]\n",
            "Fetched 6,158 kB in 2s (2,722 kB/s)\n",
            "debconf: unable to initialize frontend: Dialog\n",
            "debconf: (No usable dialog-like program is installed, so the dialog based frontend cannot be used. at /usr/share/perl5/Debconf/FrontEnd/Dialog.pm line 76, <> line 13.)\n",
            "debconf: falling back to frontend: Readline\n",
            "debconf: unable to initialize frontend: Readline\n",
            "debconf: (This frontend requires a controlling tty.)\n",
            "debconf: falling back to frontend: Teletype\n",
            "dpkg-preconfigure: unable to re-open stdin: \n",
            "Selecting previously unselected package fonts-lato.\n",
            "(Reading database ... 160976 files and directories currently installed.)\n",
            "Preparing to unpack .../00-fonts-lato_2.0-2_all.deb ...\n",
            "Unpacking fonts-lato (2.0-2) ...\n",
            "Selecting previously unselected package javascript-common.\n",
            "Preparing to unpack .../01-javascript-common_11_all.deb ...\n",
            "Unpacking javascript-common (11) ...\n",
            "Selecting previously unselected package libjs-jquery.\n",
            "Preparing to unpack .../02-libjs-jquery_3.2.1-1_all.deb ...\n",
            "Unpacking libjs-jquery (3.2.1-1) ...\n",
            "Selecting previously unselected package rubygems-integration.\n",
            "Preparing to unpack .../03-rubygems-integration_1.11_all.deb ...\n",
            "Unpacking rubygems-integration (1.11) ...\n",
            "Selecting previously unselected package ruby2.5.\n",
            "Preparing to unpack .../04-ruby2.5_2.5.1-1ubuntu1.7_amd64.deb ...\n",
            "Unpacking ruby2.5 (2.5.1-1ubuntu1.7) ...\n",
            "Selecting previously unselected package ruby.\n",
            "Preparing to unpack .../05-ruby_1%3a2.5.1_amd64.deb ...\n",
            "Unpacking ruby (1:2.5.1) ...\n",
            "Selecting previously unselected package rake.\n",
            "Preparing to unpack .../06-rake_12.3.1-1ubuntu0.1_all.deb ...\n",
            "Unpacking rake (12.3.1-1ubuntu0.1) ...\n",
            "Selecting previously unselected package ruby-did-you-mean.\n",
            "Preparing to unpack .../07-ruby-did-you-mean_1.2.0-2_all.deb ...\n",
            "Unpacking ruby-did-you-mean (1.2.0-2) ...\n",
            "Selecting previously unselected package ruby-minitest.\n",
            "Preparing to unpack .../08-ruby-minitest_5.10.3-1_all.deb ...\n",
            "Unpacking ruby-minitest (5.10.3-1) ...\n",
            "Selecting previously unselected package ruby-net-telnet.\n",
            "Preparing to unpack .../09-ruby-net-telnet_0.1.1-2_all.deb ...\n",
            "Unpacking ruby-net-telnet (0.1.1-2) ...\n",
            "Selecting previously unselected package ruby-power-assert.\n",
            "Preparing to unpack .../10-ruby-power-assert_0.3.0-1_all.deb ...\n",
            "Unpacking ruby-power-assert (0.3.0-1) ...\n",
            "Selecting previously unselected package ruby-test-unit.\n",
            "Preparing to unpack .../11-ruby-test-unit_3.2.5-1_all.deb ...\n",
            "Unpacking ruby-test-unit (3.2.5-1) ...\n",
            "Selecting previously unselected package libruby2.5:amd64.\n",
            "Preparing to unpack .../12-libruby2.5_2.5.1-1ubuntu1.7_amd64.deb ...\n",
            "Unpacking libruby2.5:amd64 (2.5.1-1ubuntu1.7) ...\n",
            "Setting up libjs-jquery (3.2.1-1) ...\n",
            "Setting up fonts-lato (2.0-2) ...\n",
            "Setting up ruby-did-you-mean (1.2.0-2) ...\n",
            "Setting up ruby-net-telnet (0.1.1-2) ...\n",
            "Setting up rubygems-integration (1.11) ...\n",
            "Setting up javascript-common (11) ...\n",
            "Setting up ruby-minitest (5.10.3-1) ...\n",
            "Setting up ruby-power-assert (0.3.0-1) ...\n",
            "Setting up ruby2.5 (2.5.1-1ubuntu1.7) ...\n",
            "Setting up ruby (1:2.5.1) ...\n",
            "Setting up ruby-test-unit (3.2.5-1) ...\n",
            "Setting up rake (12.3.1-1ubuntu0.1) ...\n",
            "Setting up libruby2.5:amd64 (2.5.1-1ubuntu1.7) ...\n",
            "Processing triggers for libc-bin (2.27-3ubuntu1.2) ...\n",
            "/sbin/ldconfig.real: /usr/local/lib/python3.7/dist-packages/ideep4py/lib/libmkldnn.so.0 is not a symbolic link\n",
            "\n",
            "Processing triggers for man-db (2.8.3-2ubuntu0.1) ...\n",
            "Processing triggers for fontconfig (2.12.6-0ubuntu2) ...\n"
          ],
          "name": "stdout"
        }
      ]
    },
    {
      "cell_type": "code",
      "metadata": {
        "colab": {
          "base_uri": "https://localhost:8080/"
        },
        "id": "mZc8j7XJi--k",
        "outputId": "3d1299e0-b992-4846-e22f-e75e8d3bed2b"
      },
      "source": [
        "!heroku"
      ],
      "execution_count": 3,
      "outputs": [
        {
          "output_type": "stream",
          "text": [
            "\u001b[1mUsage:\u001b[22m heroku COMMAND\n",
            "\n",
            "Help topics, type \u001b[36m\u001b[1mheroku help TOPIC\u001b[22m\u001b[39m for more details:\n",
            "\n",
            " 2fa\n",
            " access          \u001b[2mmanage user access to apps\u001b[22m\n",
            " addons          \u001b[2mtools and services for developing, extending, and operating\n",
            "                 your app\u001b[22m\n",
            " apps            \u001b[2mmanage apps\u001b[22m\n",
            " auth            \u001b[2mheroku authentication\u001b[22m\n",
            " authorizations  \u001b[2mOAuth authorizations\u001b[22m\n",
            " buildpacks      \u001b[2mmanage the buildpacks for an app\u001b[22m\n",
            " certs           \u001b[2ma topic for the ssl plugin\u001b[22m\n",
            " ci              \u001b[2mrun an application test suite on Heroku\u001b[22m\n",
            " clients         \u001b[2mOAuth clients on the platform\u001b[22m\n",
            " config          \u001b[2mmanage app config vars\u001b[22m\n",
            " container       \u001b[2mUse containers to build and deploy Heroku apps\u001b[22m\n",
            " domains         \u001b[2mmanage the domains for an app\u001b[22m\n",
            " drains          \u001b[2mlist all log drains\u001b[22m\n",
            " features        \u001b[2mmanage optional features\u001b[22m\n",
            " git             \u001b[2mmanage local git repository for app\u001b[22m\n",
            " keys            \u001b[2mmanage ssh keys\u001b[22m\n",
            " labs            \u001b[2mexperimental features\u001b[22m\n",
            " local           \u001b[2mrun heroku app locally\u001b[22m\n",
            " logs            \u001b[2mdisplay recent log output\u001b[22m\n",
            " maintenance     \u001b[2mmanage maintenance mode for an app\u001b[22m\n",
            " members         \u001b[2mmanage organization members\u001b[22m\n",
            " notifications   \u001b[2mdisplay notifications\u001b[22m\n",
            " orgs            \u001b[2mmanage organizations\u001b[22m\n",
            " outbound-rules\n",
            " pg              \u001b[2mmanage postgresql databases\u001b[22m\n",
            " pipelines\n",
            " plugins         \u001b[2madd/remove CLI plugins\u001b[22m\n",
            " ps              \u001b[2mClient tools for Heroku Exec\u001b[22m\n",
            " redis           \u001b[2mmanage heroku redis instances\u001b[22m\n",
            " releases        \u001b[2mmanage app releases\u001b[22m\n",
            " reviewapps\n",
            " run             \u001b[2mrun a one-off process inside a Heroku dyno\u001b[22m\n",
            " sessions        \u001b[2mOAuth sessions\u001b[22m\n",
            " spaces          \u001b[2mmanage heroku private spaces\u001b[22m\n",
            " status          \u001b[2mstatus of the Heroku platform\u001b[22m\n",
            " teams           \u001b[2mmanage teams\u001b[22m\n",
            " twofactor\n",
            " webhooks        \u001b[2msetup HTTP notifications of app activity\u001b[22m\n",
            "\n"
          ],
          "name": "stdout"
        }
      ]
    },
    {
      "cell_type": "code",
      "metadata": {
        "id": "gpaysUeDl-SL"
      },
      "source": [
        ""
      ],
      "execution_count": 4,
      "outputs": []
    },
    {
      "cell_type": "code",
      "metadata": {
        "colab": {
          "base_uri": "https://localhost:8080/"
        },
        "id": "3I0Q8gUHnKgX",
        "outputId": "b731d9ac-e818-4652-8892-8ed7aebf79a6"
      },
      "source": [
        "!heroku login"
      ],
      "execution_count": 6,
      "outputs": [
        {
          "output_type": "stream",
          "text": [
            "Enter your Heroku credentials:\n",
            "\u001b[2mEmail: \u001b[22m\n",
            "\u001b[2mEmail: \u001b[22m \n",
            "\u001b[2mEmail: \u001b[22mdakkarika@gmail.com\n",
            "\u001b[2K\u001b[G\u001b[2mPassword: \u001b[22m*************************\u001b[?25h"
          ],
          "name": "stdout"
        }
      ]
    },
    {
      "cell_type": "code",
      "metadata": {
        "id": "KlD99XL_nfeb",
        "colab": {
          "base_uri": "https://localhost:8080/"
        },
        "outputId": "38a4ebc8-3917-4333-de4b-4ae26cd42664"
      },
      "source": [
        "!git clone https://github.com/heroku/python-getting-started.git"
      ],
      "execution_count": 8,
      "outputs": [
        {
          "output_type": "stream",
          "text": [
            "Cloning into 'python-getting-started'...\n",
            "remote: Enumerating objects: 474, done.\u001b[K\n",
            "remote: Total 474 (delta 0), reused 0 (delta 0), pack-reused 474\u001b[K\n",
            "Receiving objects: 100% (474/474), 81.19 KiB | 8.12 MiB/s, done.\n",
            "Resolving deltas: 100% (235/235), done.\n"
          ],
          "name": "stdout"
        }
      ]
    },
    {
      "cell_type": "code",
      "metadata": {
        "id": "08cYADXNr_gT",
        "colab": {
          "base_uri": "https://localhost:8080/"
        },
        "outputId": "c5cb6bfb-5150-4374-944f-3ebca16083d0"
      },
      "source": [
        "!heroku create"
      ],
      "execution_count": null,
      "outputs": [
        {
          "output_type": "stream",
          "text": [
            "\u001b[G\u001b[2K\u001b[?25lCreating app... \u001b[35m⣾\u001b[39m \n",
            "\u001b[1A\u001b[16C\u001b[35m⣽\u001b[39m\u001b[1B\u001b[G\u001b[2K\u001b[1A\u001b[16C\u001b[35m⣻\u001b[39m\u001b[1B\u001b[G\u001b[2K\u001b[1A\u001b[16C\u001b[35m⢿\u001b[39m\u001b[1B\u001b[G\u001b[2K\u001b[1A\u001b[16C\u001b[35m⡿\u001b[39m\u001b[1B\u001b[G\u001b[2K\u001b[1A\u001b[JCreating app... \u001b[31m\u001b[1m!\u001b[22m\u001b[39m\n",
            "\u001b[?25h \u001b[31m▸\u001b[39m    Invalid credentials\n",
            " \u001b[31m▸\u001b[39m    provided.\n",
            "Enter your Heroku credentials:\n",
            "\u001b[2mEmail: \u001b[22mdakkarika@gmail.com\n",
            "\u001b[2K\u001b[G\u001b[2mPassword: \u001b[22m***************"
          ],
          "name": "stdout"
        }
      ]
    }
  ]
}